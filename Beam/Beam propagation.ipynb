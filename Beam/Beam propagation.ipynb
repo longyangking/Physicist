{
 "cells": [
  {
   "cell_type": "markdown",
   "metadata": {},
   "source": [
    "# Beam propagation method"
   ]
  },
  {
   "cell_type": "markdown",
   "metadata": {
    "collapsed": true
   },
   "source": [
    "$$ i \\frac{\\partial \\psi}{\\partial z} = - \\frac{1}{2 n_0 k_0} \\nabla^2 \\psi - \\Delta n k_0 \\psi $$\n",
    "\n",
    "$$ \\frac{\\partial \\psi}{\\partial z} = \\frac{i}{2 n_0 k_0} \\nabla^2 \\psi + i \\Delta n k_0 \\psi $$\n",
    "\n",
    "$$ \\frac{\\partial \\psi}{\\partial z} = a \\nabla^2 \\psi + b \\psi $$\n",
    "where $ a = \\frac{i}{2 n_0 k_0}$, $b = i \\Delta n k_0$."
   ]
  },
  {
   "cell_type": "markdown",
   "metadata": {},
   "source": [
    "## Discretization\n",
    "$$ \\nabla^2 \\psi = \\frac {\\psi(x+h,y) + \\psi(x-h,y) + \\psi(x,y+h) + \\psi(x,y-h) - 4 \\psi(x,y)} {dx^2} $$\n",
    "where $ h= dx$.\n",
    "\n",
    "$$ \\frac {\\partial \\psi}{\\partial z} = \\frac {\\psi(z+dz;x,y) - \\psi(z;x,y)} {dz}$$\n",
    "\n",
    "$$ \\psi(z+dz;x,y) = \\psi(z;x,y) + dz(a \\nabla^2 \\psi(z;x,y) + b \\psi(z;x,y)) $$"
   ]
  },
  {
   "cell_type": "markdown",
   "metadata": {},
   "source": [
    "## Absorb Boundary\n",
    "$$ \\frac{\\partial \\psi}{\\partial x}(z;-1,y) = \\frac{\\partial \\psi}{\\partial x}(z;1,y) = \\frac{\\partial \\psi}{\\partial x}(z;x,-1) = \\frac{\\partial \\psi}{\\partial x}(z;x,1) = 0 $$"
   ]
  },
  {
   "cell_type": "markdown",
   "metadata": {},
   "source": [
    "## CFL Condition\n",
    "$$ \\frac {a dz}{dx^2} \\le \\frac{1}{4} $$\n",
    "$$ dz \\le \\frac {dx^2}{4 a} $$\n",
    "\n",
    "$$ error \\approx \\frac{N}{3} (dz n_0 k_0)^3 $$\n",
    "\n",
    "$$ \\frac {1}{n_0 k_0} (\\frac{3}{N})^{-3} \\le dz $$"
   ]
  },
  {
   "cell_type": "markdown",
   "metadata": {},
   "source": [
    "## Unit"
   ]
  },
  {
   "cell_type": "code",
   "execution_count": 193,
   "metadata": {
    "collapsed": true
   },
   "outputs": [],
   "source": [
    "import numpy as np\n",
    "import matplotlib.pyplot as plt\n",
    "import math\n",
    "%matplotlib inline"
   ]
  },
  {
   "cell_type": "code",
   "execution_count": 195,
   "metadata": {
    "collapsed": false
   },
   "outputs": [],
   "source": [
    "k0 = 2.0*math.pi/(633*10**-9)\n",
    "n0 = 1.45\n",
    "a = 1j/(2.0*n0*k0)\n",
    "b = 0.0\n",
    "L = 100.0*10*-6"
   ]
  },
  {
   "cell_type": "code",
   "execution_count": 209,
   "metadata": {
    "collapsed": false
   },
   "outputs": [],
   "source": [
    "size = 11*40  # size of the 2D grid\n",
    "dx = L/size  # space step\n",
    "Z = 10.0*10**-3\n",
    "n = 10000\n",
    "dz = Z/n;"
   ]
  },
  {
   "cell_type": "code",
   "execution_count": 210,
   "metadata": {
    "collapsed": false
   },
   "outputs": [],
   "source": [
    "psi = np.zeros([size, size],dtype=complex)\n",
    "x = np.linspace(-L/2,L/2,size)\n",
    "y = np.linspace(-L/2,L/2,size)"
   ]
  },
  {
   "cell_type": "code",
   "execution_count": 213,
   "metadata": {
    "collapsed": false
   },
   "outputs": [
    {
     "data": {
      "image/png": "[encoded data removed]",
      "text/plain": [
       "<matplotlib.figure.Figure at 0x9a33dd8>"
      ]
     },
     "metadata": {},
     "output_type": "display_data"
    }
   ],
   "source": [
    "for i in range(size):\n",
    "    for j in range(size):\n",
    "        psi[i,j] = np.exp(-(x[i]**2 + y[j]**2)/(L/10)**2)\n",
    "plt.imshow(abs(psi),cmap=plt.cm.hot);"
   ]
  },
  {
   "cell_type": "code",
   "execution_count": 214,
   "metadata": {
    "collapsed": true
   },
   "outputs": [],
   "source": [
    "def laplacian(Z):\n",
    "    Ztop = Z[0:-2,1:-1]\n",
    "    Zleft = Z[1:-1,0:-2]\n",
    "    Zbottom = Z[2:,1:-1]\n",
    "    Zright = Z[1:-1,2:]\n",
    "    Zcenter = Z[1:-1,1:-1]\n",
    "    return (Ztop + Zleft + Zbottom + Zright - 4 * Zcenter) / dx**2"
   ]
  },
  {
   "cell_type": "code",
   "execution_count": 215,
   "metadata": {
    "collapsed": false,
    "scrolled": false
   },
   "outputs": [
    {
     "name": "stdout",
     "output_type": "stream",
     "text": [
      "Finished = 0.0%\n",
      "Finished = 5.0%\n",
      "Finished = 10.0%\n",
      "Finished = 15.0%\n",
      "Finished = 20.0%\n",
      "Finished = 25.0%\n",
      "Finished = 30.0%\n",
      "Finished = 35.0%\n",
      "Finished = 40.0%\n",
      "Finished = 45.0%\n",
      "Finished = 50.0%\n",
      "Finished = 55.0%\n",
      "Finished = 60.0%\n",
      "Finished = 65.0%\n",
      "Finished = 70.0%\n",
      "Finished = 75.0%\n",
      "Finished = 80.0%\n",
      "Finished = 85.0%\n",
      "Finished = 90.0%\n",
      "Finished = 95.0%\n"
     ]
    },
    {
     "data": {
      "image/png": "[encoded data removed]",
      "text/plain": [
       "<matplotlib.figure.Figure at 0xc0f1e10>"
      ]
     },
     "metadata": {},
     "output_type": "display_data"
    }
   ],
   "source": [
    "# We simulate the PDE with the finite difference method.\n",
    "for i in range(n):\n",
    "    deltapsi = laplacian(psi)\n",
    "    psic = psi[1:-1,1:-1]\n",
    "    psi[1:-1,1:-1] = psic + dz * (a * deltapsi + b*psic)\n",
    "    \n",
    "    psi[0,:] = psi[1,:]\n",
    "    psi[-1,:] = psi[-2,:]\n",
    "    psi[:,0] = psi[:,1]\n",
    "    psi[:,-1] = psi[:,-2]\n",
    "    \n",
    "    if i%(n/20) == 0:\n",
    "        print 'Finished = {num}%'.format(num=100.0*i/n)\n",
    "plt.imshow(abs(psi),cmap=plt.cm.hot);"
   ]
  },
  {
   "cell_type": "code",
   "execution_count": 203,
   "metadata": {
    "collapsed": false
   },
   "outputs": [
    {
     "data": {
      "image/png": "[encoded data removed]",
      "text/plain": [
       "<matplotlib.figure.Figure at 0xa1722b0>"
      ]
     },
     "metadata": {},
     "output_type": "display_data"
    }
   ],
   "source": [
    "plt.imshow(abs(psi),cmap=plt.cm.hot);"
   ]
  },
  {
   "cell_type": "code",
   "execution_count": null,
   "metadata": {
    "collapsed": true
   },
   "outputs": [],
   "source": []
  }
 ],
 "metadata": {
  "anaconda-cloud": {},
  "kernelspec": {
   "display_name": "Python [Root]",
   "language": "python",
   "name": "Python [Root]"
  },
  "language_info": {
   "codemirror_mode": {
    "name": "ipython",
    "version": 2
   },
   "file_extension": ".py",
   "mimetype": "text/x-python",
   "name": "python",
   "nbconvert_exporter": "python",
   "pygments_lexer": "ipython2",
   "version": "2.7.12"
  }
 },
 "nbformat": 4,
 "nbformat_minor": 0
}
