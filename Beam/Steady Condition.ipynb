{
 "cells": [
  {
   "cell_type": "markdown",
   "metadata": {},
   "source": [
    "# Steady Condition"
   ]
  },
  {
   "cell_type": "markdown",
   "metadata": {},
   "source": [
    "## 1. Schrodinger-form equation"
   ]
  },
  {
   "cell_type": "markdown",
   "metadata": {},
   "source": [
    "$$ i \\frac {\\partial f} {\\partial t} = - \\alpha \\nabla^2 f - V f $$\n",
    "For analytic solution when $V = 0$, we have:\n",
    "$$ f = f_0 exp(i (k_x x+k_y y - \\omega t)) $$\n",
    "where $\\omega = \\alpha (k_x^2 + k_y^2)$."
   ]
  },
  {
   "cell_type": "markdown",
   "metadata": {},
   "source": [
    "### 1.1 Discretized form\n",
    "set $f(m,n,t)$,\n",
    "$$ i \\frac {f(m,n,t+1)-f(m,n,t)} {\\Delta t} = -\\alpha \\left( \\frac {f(m+1,n,t)-2f(m,n,t)+f(m-1,n,t)} {\\Delta x^2} + \\frac {f(m,n+1,t)-2f(m,n,t)+f(m,n-1,t)} {\\Delta y^2} \\right)- V(m,n,t) f(m,n,t) $$\n",
    "when $V(m,n,t)=0$, we have\n",
    "$$ i \\frac {f(m,n,t)exp(-i\\omega\\Delta t)-f(m,n,t)} {\\Delta t} = -\\alpha \\left( \\frac {f(m,n,t)exp(i k_x \\Delta x)-2f(m,n,t)+f(m,n,t)exp(-i k_x \\Delta x)} {\\Delta x^2} + \\frac {f(m,n,t)exp(i k_y \\Delta y)-2f(m,n,t)+f(m,n,t)exp(-i k_y \\Delta y)} {\\Delta y^2} \\right) $$\n",
    "\n",
    "$$ i \\frac {exp(-i\\omega\\Delta t)-1} {\\Delta t} = -\\alpha \\left( \\frac {exp(i k_x \\Delta x)-2+exp(-i k_x \\Delta x)} {\\Delta x^2} + \\frac {exp(i k_y \\Delta y)-2+exp(-i k_y \\Delta y)} {\\Delta y^2} \\right) $$\n",
    "\n",
    "$$ exp(-i \\omega \\Delta t) = 1+i\\alpha \\Delta t \\left( \\frac {sin^2(\\frac{k_x \\Delta x}{2})} {(\\frac{\\Delta x}{2})^2} + \\frac {sin^2(\\frac{k_y \\Delta y}{2})} {(\\frac{\\Delta y}{2})^2} \\right) $$\n"
   ]
  },
  {
   "cell_type": "markdown",
   "metadata": {},
   "source": [
    "## "
   ]
  }
 ],
 "metadata": {
  "kernelspec": {
   "display_name": "Python 2",
   "language": "python",
   "name": "python2"
  },
  "language_info": {
   "codemirror_mode": {
    "name": "ipython",
    "version": 2
   },
   "file_extension": ".py",
   "mimetype": "text/x-python",
   "name": "python",
   "nbconvert_exporter": "python",
   "pygments_lexer": "ipython2",
   "version": "2.7.12"
  }
 },
 "nbformat": 4,
 "nbformat_minor": 0
}
